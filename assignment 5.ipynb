{
 "cells": [
  {
   "cell_type": "code",
   "execution_count": 1,
   "id": "7afef6f3",
   "metadata": {
    "scrolled": true
   },
   "outputs": [
    {
     "name": "stdout",
     "output_type": "stream",
     "text": [
      "8\n"
     ]
    }
   ],
   "source": [
    "#1. Define a function which will return Max of three numbers\n",
    "\n",
    "var1 = 4\n",
    "var2 = 8\n",
    "var3 = 2\n",
    " \n",
    "max_val = max(var1, var2, var3)\n",
    "print(max_val)"
   ]
  },
  {
   "cell_type": "code",
   "execution_count": 22,
   "id": "26ecc1b7",
   "metadata": {},
   "outputs": [],
   "source": [
    "def f1():\n",
    "   \n",
    "    var1 = 4\n",
    "    var2 = 8\n",
    "    var3 = 2\n",
    " \n",
    "    max_val = max(var1, var2, var3)\n",
    "    return max_val "
   ]
  },
  {
   "cell_type": "code",
   "execution_count": 18,
   "id": "7f467151",
   "metadata": {},
   "outputs": [
    {
     "data": {
      "text/plain": [
       "8"
      ]
     },
     "execution_count": 18,
     "metadata": {},
     "output_type": "execute_result"
    }
   ],
   "source": [
    "f1()"
   ]
  },
  {
   "cell_type": "code",
   "execution_count": 33,
   "id": "0aa86776",
   "metadata": {},
   "outputs": [
    {
     "data": {
      "text/plain": [
       "'ahtaleers'"
      ]
     },
     "execution_count": 33,
     "metadata": {},
     "output_type": "execute_result"
    }
   ],
   "source": [
    "#2. Define a Python Function to reverse a string\n",
    "x=\"sreelatha\"\n",
    "x[::-1]"
   ]
  },
  {
   "cell_type": "code",
   "execution_count": 2,
   "id": "be7e910d",
   "metadata": {},
   "outputs": [],
   "source": [
    "r=f1(\"sreelatha\")"
   ]
  },
  {
   "cell_type": "code",
   "execution_count": 69,
   "id": "6b40565d",
   "metadata": {},
   "outputs": [],
   "source": [
    "def rev(string1):\n",
    "    x=list(string1)\n",
    "    x=x[::-1]\n",
    "    x1=\"\".join(x)\n",
    "    print(x1)\n"
   ]
  },
  {
   "cell_type": "code",
   "execution_count": 70,
   "id": "88aaea55",
   "metadata": {},
   "outputs": [
    {
     "name": "stdout",
     "output_type": "stream",
     "text": [
      "ahtaleers\n"
     ]
    }
   ],
   "source": [
    "rev(\"sreelatha\")"
   ]
  },
  {
   "cell_type": "code",
   "execution_count": 50,
   "id": "461e2b7a",
   "metadata": {},
   "outputs": [],
   "source": [
    "#3. Write a Python program to define a function that accepts 2 values and return its sum, subtraction and multiplication.\n",
    "def cal():\n",
    "    num1=int(input(\"enter the number1: \"))\n",
    "    sign=input(\"sign are +,-.*: \")\n",
    "    num2=int(input(\"enter the number2: \"))\n",
    "    if sign==\"+\":\n",
    "        print(\"{}+{}={}\".format(num1,num2,num1+num2))\n",
    "    elif sign==\"-\":\n",
    "        print(\"{}-{}={}\".format(num1,num2,num1-num2))\n",
    "    elif sign==\"*\":\n",
    "        print(\"{}*{}={}\".format(num1,num2,num1*num2))\n",
    "    else:\n",
    "        print(\"sign is not there\")\n",
    "     "
   ]
  },
  {
   "cell_type": "code",
   "execution_count": 51,
   "id": "287c2960",
   "metadata": {},
   "outputs": [
    {
     "name": "stdout",
     "output_type": "stream",
     "text": [
      "enter the number1: 23\n",
      "sign are +,-.*: *\n",
      "enter the number2: 3\n",
      "23*3=69\n"
     ]
    }
   ],
   "source": [
    "cal()"
   ]
  },
  {
   "cell_type": "code",
   "execution_count": 52,
   "id": "dc4cdcfc",
   "metadata": {},
   "outputs": [
    {
     "name": "stdout",
     "output_type": "stream",
     "text": [
      "enter the number1: 23\n",
      "sign are +,-.*: -\n",
      "enter the number2: 56\n",
      "23-56=-33\n"
     ]
    }
   ],
   "source": [
    "cal()"
   ]
  },
  {
   "cell_type": "code",
   "execution_count": 54,
   "id": "654a5826",
   "metadata": {},
   "outputs": [
    {
     "name": "stdout",
     "output_type": "stream",
     "text": [
      "enter the number1: 23\n",
      "sign are +,-.*: +\n",
      "enter the number2: 89\n",
      "23+89=112\n"
     ]
    }
   ],
   "source": [
    "cal()"
   ]
  },
  {
   "cell_type": "code",
   "execution_count": 55,
   "id": "02c9bcc4",
   "metadata": {},
   "outputs": [
    {
     "name": "stdout",
     "output_type": "stream",
     "text": [
      "enter the number1: 45\n",
      "sign are +,-.*: **\n",
      "enter the number2: 78\n",
      "sign is not there\n"
     ]
    }
   ],
   "source": [
    "cal()"
   ]
  },
  {
   "cell_type": "code",
   "execution_count": 14,
   "id": "82bcd100",
   "metadata": {},
   "outputs": [
    {
     "name": "stdout",
     "output_type": "stream",
     "text": [
      "enter the num1: 23\n",
      "enter the num2: 4\n",
      "23+4=27\n",
      "23-4=19\n",
      "23*4=92\n"
     ]
    }
   ],
   "source": [
    "def cal(a,b):\n",
    "    yield \"{}+{}={}\".format(a,b,a+b)\n",
    "    yield \"{}-{}={}\".format(a,b,a-b) \n",
    "    yield \"{}*{}={}\".format(a,b,a*b)\n",
    "a=int(input(\"enter the num1: \"))\n",
    "b=int(input(\"enter the num2: \"))\n",
    "for i in cal(a,b):\n",
    "    print(i)\n",
    "    "
   ]
  },
  {
   "cell_type": "code",
   "execution_count": 24,
   "id": "6bc0a7bb",
   "metadata": {},
   "outputs": [],
   "source": [
    "#4. Define a function that accepts roll number and returns whether the student is present or absent.\n",
    "def roll(r):\n",
    "    present=[21,22,23,24,25,26,27,28,29,30]\n",
    "    if r in present:\n",
    "        return \"student is present\"\n",
    "    else:\n",
    "        return \"student is absent\"\n",
    "       "
   ]
  },
  {
   "cell_type": "code",
   "execution_count": 29,
   "id": "233914ce",
   "metadata": {},
   "outputs": [
    {
     "data": {
      "text/plain": [
       "'student is absent'"
      ]
     },
     "execution_count": 29,
     "metadata": {},
     "output_type": "execute_result"
    }
   ],
   "source": [
    "roll(19)"
   ]
  },
  {
   "cell_type": "code",
   "execution_count": 45,
   "id": "4bf16ec0",
   "metadata": {},
   "outputs": [],
   "source": [
    "#5. Define a function in python that accepts n values and returns the maximum of n numbers\n",
    "def max(*number):\n",
    "    return \"max number :{}\".format(max(number))\n",
    "    "
   ]
  },
  {
   "cell_type": "code",
   "execution_count": 1,
   "id": "739c40c2",
   "metadata": {},
   "outputs": [
    {
     "data": {
      "text/plain": [
       "100"
      ]
     },
     "execution_count": 1,
     "metadata": {},
     "output_type": "execute_result"
    }
   ],
   "source": [
    "max(23,45,100,56)"
   ]
  },
  {
   "cell_type": "code",
   "execution_count": 14,
   "id": "b8f697e2",
   "metadata": {},
   "outputs": [],
   "source": [
    "#6. Define a function which counts vowels and consonant in a word.\n",
    "def countvowels(x):\n",
    "    vowels=['a','e','i','o','u']\n",
    "    v=0\n",
    "    c=0\n",
    "    for letters in x:\n",
    "        if letters in vowels:\n",
    "            v+=1\n",
    "        else:\n",
    "            c+=1\n",
    "    print(\"Total vowels in given string = {}\".format(v))\n",
    "    print(\"Total consonant in given string={}\".format(c))"
   ]
  },
  {
   "cell_type": "code",
   "execution_count": 15,
   "id": "52d628a2",
   "metadata": {},
   "outputs": [
    {
     "name": "stdout",
     "output_type": "stream",
     "text": [
      "Total vowels in given string = 4\n",
      "Total consonant in given string=5\n"
     ]
    }
   ],
   "source": [
    "countvowels(\"sreelatha\")"
   ]
  },
  {
   "cell_type": "code",
   "execution_count": 6,
   "id": "7512c5d2",
   "metadata": {},
   "outputs": [],
   "source": [
    "#7. Define a function that returns Factorial of a number.\n",
    "def f1(x):\n",
    "    if x==1:\n",
    "        return 1\n",
    "    else:\n",
    "        return x*f1(x-1)"
   ]
  },
  {
   "cell_type": "code",
   "execution_count": 8,
   "id": "6e8a7dd0",
   "metadata": {},
   "outputs": [
    {
     "data": {
      "text/plain": [
       "40320"
      ]
     },
     "execution_count": 8,
     "metadata": {},
     "output_type": "execute_result"
    }
   ],
   "source": [
    "f1(8)"
   ]
  },
  {
   "cell_type": "code",
   "execution_count": 22,
   "id": "ce52d246",
   "metadata": {},
   "outputs": [],
   "source": [
    "#8. Define a function that accepts radius and returns the area of a circle.\n",
    "def area(r):\n",
    "    return \"area of circle of radius {} is {}\".format(r,(22/7),r**(22/7))"
   ]
  },
  {
   "cell_type": "code",
   "execution_count": 24,
   "id": "864ec4c0",
   "metadata": {},
   "outputs": [
    {
     "data": {
      "text/plain": [
       "'area of circle of radius 6 is 3.142857142857143'"
      ]
     },
     "execution_count": 24,
     "metadata": {},
     "output_type": "execute_result"
    }
   ],
   "source": [
    "area(6)"
   ]
  },
  {
   "cell_type": "code",
   "execution_count": 30,
   "id": "55763fbb",
   "metadata": {},
   "outputs": [],
   "source": [
    "#9. Define a function that takes a number as a parameter and check the number is prime or not.\n",
    "def f(x):\n",
    "    if x>0:\n",
    "        for i in range(2,x):\n",
    "            if x%2==0:\n",
    "                return \"is prime\"\n",
    "            else:\n",
    "                return \"not prime\""
   ]
  },
  {
   "cell_type": "code",
   "execution_count": 31,
   "id": "c1918d9f",
   "metadata": {},
   "outputs": [
    {
     "data": {
      "text/plain": [
       "'not prime'"
      ]
     },
     "execution_count": 31,
     "metadata": {},
     "output_type": "execute_result"
    }
   ],
   "source": [
    "f(5)"
   ]
  },
  {
   "cell_type": "code",
   "execution_count": null,
   "id": "9a2d65cf",
   "metadata": {},
   "outputs": [],
   "source": [
    "#10. Mary wants to run a 25-mile marathon. When she attempts to sign up for the marathon, \n",
    "#she notices the sign-up sheet doesn't directly state the marathon's length. \n",
    "#Instead, the marathon's length is listed in small, different portions. \n",
    "#Help Mary find out how long the marathon actually is. So create a function that\n",
    "#** Return True if the marathon is 25 miles long, otherwise, return False.\n",
    "def marathon(n):\n",
    "    total=0\n",
    "    for y in n:\n",
    "        total=total+abs(y)\n",
    "    if total==25:\n",
    "        return True\n",
    "    else:\n",
    "        return False\n"
   ]
  },
  {
   "cell_type": "code",
   "execution_count": 39,
   "id": "f888fa8a",
   "metadata": {},
   "outputs": [],
   "source": [
    "#10. Mary wants to run a 25-mile marathon. When she attempts to sign up for the marathon, \n",
    "#she notices the sign-up sheet doesn't directly state the marathon's length. \n",
    "#Instead, the marathon's length is listed in small, different portions. \n",
    "#Help Mary find out how long the marathon actually is. So create a function that\n",
    "#** Return True if the marathon is 25 miles long, otherwise, return False.\n",
    "def marathon(x):\n",
    "    count=0\n",
    "    for i in x:\n",
    "        count+=i\n",
    "        if count==25:\n",
    "            return True\n",
    "        else:\n",
    "            return False"
   ]
  },
  {
   "cell_type": "code",
   "execution_count": 43,
   "id": "9c8ea329",
   "metadata": {},
   "outputs": [
    {
     "data": {
      "text/plain": [
       "False"
      ]
     },
     "execution_count": 43,
     "metadata": {},
     "output_type": "execute_result"
    }
   ],
   "source": [
    "marathon([1,2,3,4,])"
   ]
  },
  {
   "cell_type": "code",
   "execution_count": 16,
   "id": "cd761d4a",
   "metadata": {},
   "outputs": [],
   "source": [
    "#11. Create a function that takes a number and returns True if the number is automorphic, False if it isn't.\n",
    "# ** number n is automorphic if n^2 ends in n.\n",
    "def automorphic(n):\n",
    "    num=str(n**5)\n",
    "    if num[-1]==str(n):\n",
    "        return \"true the number is automorphic\"\n",
    "    else:\n",
    "        return \"false the number is not automorphic\"\n",
    "        "
   ]
  },
  {
   "cell_type": "code",
   "execution_count": 17,
   "id": "2ff13267",
   "metadata": {},
   "outputs": [
    {
     "data": {
      "text/plain": [
       "'true the number is automorphic'"
      ]
     },
     "execution_count": 17,
     "metadata": {},
     "output_type": "execute_result"
    }
   ],
   "source": [
    "automorphic(3)"
   ]
  },
  {
   "cell_type": "code",
   "execution_count": 18,
   "id": "7bec3eb0",
   "metadata": {},
   "outputs": [
    {
     "data": {
      "text/plain": [
       "'false the number is not automorphic'"
      ]
     },
     "execution_count": 18,
     "metadata": {},
     "output_type": "execute_result"
    }
   ],
   "source": [
    "automorphic(35)"
   ]
  },
  {
   "cell_type": "code",
   "execution_count": 20,
   "id": "d595b510",
   "metadata": {},
   "outputs": [
    {
     "data": {
      "text/plain": [
       "'true the number is automorphic'"
      ]
     },
     "execution_count": 20,
     "metadata": {},
     "output_type": "execute_result"
    }
   ],
   "source": [
    "automorphic(5)"
   ]
  },
  {
   "cell_type": "code",
   "execution_count": 11,
   "id": "41ea7d12",
   "metadata": {},
   "outputs": [],
   "source": [
    "# 12. Create a function, that will take given a, b, c, and do the following:\n",
    "# Add a to itself b times and Check if the result is divisible by c.and return true if it is divisible by c or false\n",
    "def f(a,b,c):\n",
    "    sum=0\n",
    "    for y in range(b):\n",
    "        sum+=a\n",
    "    if sum//c==0:\n",
    "        return True\n",
    "    \n",
    "    else:\n",
    "        return False\n",
    "    "
   ]
  },
  {
   "cell_type": "code",
   "execution_count": 12,
   "id": "e728c416",
   "metadata": {},
   "outputs": [
    {
     "data": {
      "text/plain": [
       "True"
      ]
     },
     "execution_count": 12,
     "metadata": {},
     "output_type": "execute_result"
    }
   ],
   "source": [
    "f(1,2,3)"
   ]
  },
  {
   "cell_type": "code",
   "execution_count": 14,
   "id": "ddcbb938",
   "metadata": {},
   "outputs": [
    {
     "data": {
      "text/plain": [
       "True"
      ]
     },
     "execution_count": 14,
     "metadata": {},
     "output_type": "execute_result"
    }
   ],
   "source": [
    "f(1,1,2)"
   ]
  },
  {
   "cell_type": "code",
   "execution_count": 15,
   "id": "186fc01e",
   "metadata": {},
   "outputs": [
    {
     "data": {
      "text/plain": [
       "False"
      ]
     },
     "execution_count": 15,
     "metadata": {},
     "output_type": "execute_result"
    }
   ],
   "source": [
    "f(2,4,2)"
   ]
  },
  {
   "cell_type": "code",
   "execution_count": 28,
   "id": "50019050",
   "metadata": {},
   "outputs": [],
   "source": [
    "# 13. Create a function that changes specific words into emoticons. Given a sentence as a string, \n",
    "# replace the words smile, grin, sad and mad with their corresponding emoticons.\n",
    "def emotion(string1):\n",
    "    for y in string1:\n",
    "        string1=string1.replace(\"smile\",\"D\")\n",
    "        string1=string1.replace(\"grin\",\":)\")\n",
    "        string1=string1.replace(\"sad\",\":(\")\n",
    "        string1=string1.replace(\"mad\",\"p\")\n",
    "    print(string1)\n",
    "\n",
    "    "
   ]
  },
  {
   "cell_type": "code",
   "execution_count": 29,
   "id": "0734d1c6",
   "metadata": {},
   "outputs": [
    {
     "name": "stdout",
     "output_type": "stream",
     "text": [
      "my D\n"
     ]
    }
   ],
   "source": [
    "emotion(\"my smile\")"
   ]
  },
  {
   "cell_type": "code",
   "execution_count": 30,
   "id": "ecad2fcd",
   "metadata": {},
   "outputs": [
    {
     "name": "stdout",
     "output_type": "stream",
     "text": [
      "my :)\n"
     ]
    }
   ],
   "source": [
    "emotion(\"my grin\")"
   ]
  },
  {
   "cell_type": "code",
   "execution_count": 31,
   "id": "8c16b521",
   "metadata": {},
   "outputs": [
    {
     "name": "stdout",
     "output_type": "stream",
     "text": [
      "my :(\n"
     ]
    }
   ],
   "source": [
    "emotion(\"my sad\")"
   ]
  },
  {
   "cell_type": "code",
   "execution_count": 32,
   "id": "6b60975a",
   "metadata": {},
   "outputs": [
    {
     "name": "stdout",
     "output_type": "stream",
     "text": [
      "my p\n"
     ]
    }
   ],
   "source": [
    "emotion(\"my mad\")"
   ]
  },
  {
   "cell_type": "code",
   "execution_count": 36,
   "id": "6c8b4ba4",
   "metadata": {},
   "outputs": [],
   "source": [
    "#14. Write a Python program to square and cube every number in a given list of integers using Lambda.\n",
    "y=map(lambda x: x**2 and x**3,[2,3,4,5])"
   ]
  },
  {
   "cell_type": "code",
   "execution_count": 38,
   "id": "360dc770",
   "metadata": {},
   "outputs": [
    {
     "data": {
      "text/plain": [
       "[8, 27, 64, 125]"
      ]
     },
     "execution_count": 38,
     "metadata": {},
     "output_type": "execute_result"
    }
   ],
   "source": [
    "list(y)"
   ]
  },
  {
   "cell_type": "code",
   "execution_count": 51,
   "id": "f4fcbd3b",
   "metadata": {},
   "outputs": [],
   "source": [
    "def f1(l):\n",
    "    x=list(map(lambda x:x**2,l))\n",
    "    y=list(map(lambda x:x**3,l))\n",
    "    print(\"squares:{}\".format(x))\n",
    "    print(\"cubes :{}\".format(y))\n",
    "   "
   ]
  },
  {
   "cell_type": "code",
   "execution_count": 52,
   "id": "30cf4afc",
   "metadata": {},
   "outputs": [
    {
     "name": "stdout",
     "output_type": "stream",
     "text": [
      "squares:[9, 16, 25, 36, 49]\n",
      "cubes :[27, 64, 125, 216, 343]\n"
     ]
    }
   ],
   "source": [
    "f1([3,4,5,6,7])"
   ]
  },
  {
   "cell_type": "code",
   "execution_count": 66,
   "id": "eb20b8a9",
   "metadata": {},
   "outputs": [],
   "source": [
    "# 15. Write a Python program to check whether a given string is number or not using Lambda\n",
    "y=lambda x:x.isdigit()"
   ]
  },
  {
   "cell_type": "code",
   "execution_count": 67,
   "id": "4ec4ab97",
   "metadata": {},
   "outputs": [
    {
     "data": {
      "text/plain": [
       "True"
      ]
     },
     "execution_count": 67,
     "metadata": {},
     "output_type": "execute_result"
    }
   ],
   "source": [
    "y(\"12345\")"
   ]
  },
  {
   "cell_type": "code",
   "execution_count": 68,
   "id": "9ce46f46",
   "metadata": {},
   "outputs": [
    {
     "data": {
      "text/plain": [
       "False"
      ]
     },
     "execution_count": 68,
     "metadata": {},
     "output_type": "execute_result"
    }
   ],
   "source": [
    "y(\"sree\")"
   ]
  },
  {
   "cell_type": "code",
   "execution_count": null,
   "id": "a2c5d456",
   "metadata": {},
   "outputs": [],
   "source": []
  }
 ],
 "metadata": {
  "kernelspec": {
   "display_name": "Python 3 (ipykernel)",
   "language": "python",
   "name": "python3"
  },
  "language_info": {
   "codemirror_mode": {
    "name": "ipython",
    "version": 3
   },
   "file_extension": ".py",
   "mimetype": "text/x-python",
   "name": "python",
   "nbconvert_exporter": "python",
   "pygments_lexer": "ipython3",
   "version": "3.9.13"
  }
 },
 "nbformat": 4,
 "nbformat_minor": 5
}
